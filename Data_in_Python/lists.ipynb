{
 "cells": [
  {
   "cell_type": "code",
   "execution_count": 15,
   "metadata": {},
   "outputs": [
    {
     "name": "stdout",
     "output_type": "stream",
     "text": [
      "['CS50', 'example2', 'PythonAndSQL']\n",
      "1\n"
     ]
    },
    {
     "data": {
      "text/plain": [
       "'PythonAndSQL'"
      ]
     },
     "execution_count": 15,
     "metadata": {},
     "output_type": "execute_result"
    }
   ],
   "source": [
    "import os\n",
    "directories=os.listdir('C:\\\\Learning')\n",
    "\n",
    "#to insert data into specific index\n",
    "directories.insert(1,'example2')\n",
    "print(directories)\n",
    "\n",
    "#to know the index value of specific value\n",
    "print(directories.index('example2'))\n",
    "\n",
    "#to extract value through index.\n",
    "directories[2]\n",
    "#directories\n"
   ]
  }
 ],
 "metadata": {
  "kernelspec": {
   "display_name": "Python 3",
   "language": "python",
   "name": "python3"
  },
  "language_info": {
   "codemirror_mode": {
    "name": "ipython",
    "version": 3
   },
   "file_extension": ".py",
   "mimetype": "text/x-python",
   "name": "python",
   "nbconvert_exporter": "python",
   "pygments_lexer": "ipython3",
   "version": "3.12.0"
  }
 },
 "nbformat": 4,
 "nbformat_minor": 2
}
