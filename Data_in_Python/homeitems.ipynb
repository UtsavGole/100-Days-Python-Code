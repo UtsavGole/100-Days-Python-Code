{
 "cells": [
  {
   "cell_type": "code",
   "execution_count": 25,
   "metadata": {},
   "outputs": [
    {
     "name": "stdout",
     "output_type": "stream",
     "text": [
      "['CL', 'CL.docx', 'Cover Leter.docx', 'Cover Leter.pdf', 'Cover Letter.pdf', 'CURRICULUM-VITAE-manjila.docx', 'CURRICULUM-VITAE-manjila.pdf', 'CV.docx', 'CV.pdf', 'cv1.pdf', 'cv2.pdf', 'fghjhg', 'Manjila Luitel.pdf', 'New folder', 'New Microsoft Word Document.docx', 'Utsav Gole.docx', 'Utsav Gole.pdf', '~$CL.docx', '~$RRICULUM-VITAE-manjila.pdf']\n"
     ]
    }
   ],
   "source": [
    "import os\n",
    "home_items=os.listdir('E:\\\\CV')\n",
    "\n",
    "home_content={'files':[],'directories':[]}\n"
   ]
  },
  {
   "cell_type": "code",
   "execution_count": 22,
   "metadata": {},
   "outputs": [
    {
     "name": "stderr",
     "output_type": "stream",
     "text": [
      "<>:1: SyntaxWarning: invalid escape sequence '\\C'\n",
      "<>:1: SyntaxWarning: invalid escape sequence '\\C'\n",
      "C:\\Users\\UTSAVGOLE\\AppData\\Local\\Temp\\ipykernel_5004\\411062952.py:1: SyntaxWarning: invalid escape sequence '\\C'\n",
      "  home_path=[os.path.join('E:\\CV',item) for item in home_items]\n"
     ]
    },
    {
     "data": {
      "text/plain": [
       "['E:\\\\CV\\\\CL',\n",
       " 'E:\\\\CV\\\\CL.docx',\n",
       " 'E:\\\\CV\\\\Cover Leter.docx',\n",
       " 'E:\\\\CV\\\\Cover Leter.pdf',\n",
       " 'E:\\\\CV\\\\Cover Letter.pdf',\n",
       " 'E:\\\\CV\\\\CURRICULUM-VITAE-manjila.docx',\n",
       " 'E:\\\\CV\\\\CURRICULUM-VITAE-manjila.pdf',\n",
       " 'E:\\\\CV\\\\CV.docx',\n",
       " 'E:\\\\CV\\\\CV.pdf',\n",
       " 'E:\\\\CV\\\\cv1.pdf',\n",
       " 'E:\\\\CV\\\\cv2.pdf',\n",
       " 'E:\\\\CV\\\\fghjhg',\n",
       " 'E:\\\\CV\\\\Manjila Luitel.pdf',\n",
       " 'E:\\\\CV\\\\New folder',\n",
       " 'E:\\\\CV\\\\New Microsoft Word Document.docx',\n",
       " 'E:\\\\CV\\\\Utsav Gole.docx',\n",
       " 'E:\\\\CV\\\\Utsav Gole.pdf',\n",
       " 'E:\\\\CV\\\\~$CL.docx',\n",
       " 'E:\\\\CV\\\\~$RRICULUM-VITAE-manjila.pdf']"
      ]
     },
     "execution_count": 22,
     "metadata": {},
     "output_type": "execute_result"
    }
   ],
   "source": [
    "home_path=[os.path.join('E:\\CV',item) for item in home_items]\n",
    "home_path"
   ]
  },
  {
   "cell_type": "code",
   "execution_count": 23,
   "metadata": {},
   "outputs": [
    {
     "data": {
      "text/plain": [
       "{'files': ['E:\\\\CV\\\\CL.docx',\n",
       "  'E:\\\\CV\\\\Cover Leter.docx',\n",
       "  'E:\\\\CV\\\\Cover Leter.pdf',\n",
       "  'E:\\\\CV\\\\Cover Letter.pdf',\n",
       "  'E:\\\\CV\\\\CURRICULUM-VITAE-manjila.docx',\n",
       "  'E:\\\\CV\\\\CURRICULUM-VITAE-manjila.pdf',\n",
       "  'E:\\\\CV\\\\CV.docx',\n",
       "  'E:\\\\CV\\\\CV.pdf',\n",
       "  'E:\\\\CV\\\\cv1.pdf',\n",
       "  'E:\\\\CV\\\\cv2.pdf',\n",
       "  'E:\\\\CV\\\\Manjila Luitel.pdf',\n",
       "  'E:\\\\CV\\\\New Microsoft Word Document.docx',\n",
       "  'E:\\\\CV\\\\Utsav Gole.docx',\n",
       "  'E:\\\\CV\\\\Utsav Gole.pdf',\n",
       "  'E:\\\\CV\\\\~$CL.docx',\n",
       "  'E:\\\\CV\\\\~$RRICULUM-VITAE-manjila.pdf'],\n",
       " 'directories': ['E:\\\\CV\\\\CL', 'E:\\\\CV\\\\fghjhg', 'E:\\\\CV\\\\New folder']}"
      ]
     },
     "execution_count": 23,
     "metadata": {},
     "output_type": "execute_result"
    }
   ],
   "source": [
    "for i in home_path:\n",
    "    if os.path.isdir(i):\n",
    "        home_content['directories'].append(i)\n",
    "    if os.path.isfile(i):\n",
    "        home_content['files'].append(i)\n",
    "home_content"
   ]
  },
  {
   "cell_type": "code",
   "execution_count": null,
   "metadata": {},
   "outputs": [],
   "source": []
  }
 ],
 "metadata": {
  "kernelspec": {
   "display_name": "Python 3",
   "language": "python",
   "name": "python3"
  },
  "language_info": {
   "codemirror_mode": {
    "name": "ipython",
    "version": 3
   },
   "file_extension": ".py",
   "mimetype": "text/x-python",
   "name": "python",
   "nbconvert_exporter": "python",
   "pygments_lexer": "ipython3",
   "version": "3.12.0"
  }
 },
 "nbformat": 4,
 "nbformat_minor": 2
}
