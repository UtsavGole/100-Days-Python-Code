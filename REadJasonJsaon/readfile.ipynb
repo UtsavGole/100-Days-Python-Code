{
 "cells": [
  {
   "cell_type": "code",
   "execution_count": 5,
   "metadata": {},
   "outputs": [],
   "source": [
    "with open ('abcd.txt') as txt_file:\n",
    "    txt_content=txt_file.readline()"
   ]
  },
  {
   "cell_type": "code",
   "execution_count": 6,
   "metadata": {},
   "outputs": [
    {
     "data": {
      "text/plain": [
       "'abcd,efgh\\n'"
      ]
     },
     "execution_count": 6,
     "metadata": {},
     "output_type": "execute_result"
    }
   ],
   "source": [
    "txt_content"
   ]
  },
  {
   "cell_type": "code",
   "execution_count": 7,
   "metadata": {},
   "outputs": [
    {
     "name": "stdout",
     "output_type": "stream",
     "text": [
      "   artist_id              full_name  first_name middle_names last_name  \\\n",
      "0        500  Pierre-Auguste Renoir      Pierre      Auguste    Renoir   \n",
      "1        501      Alexandre Cabanel   Alexandre          NaN   Cabanel   \n",
      "2        502            James Ensor       James          NaN     Ensor   \n",
      "3        503        Maximilien Luce  Maximilien          NaN      Luce   \n",
      "4        504           August Macke      August          NaN     Macke   \n",
      "\n",
      "  nationality          style  birth  death  \n",
      "0      French  Impressionist   1841   1919  \n",
      "1      French     Classicist   1823   1889  \n",
      "2     Belgian  Expressionist   1860   1949  \n",
      "3      French    Pointillist   1858   1941  \n",
      "4      German  Expressionist   1887   1914  \n"
     ]
    }
   ],
   "source": [
    "import pandas as pd\n",
    "df=pd.read_csv('artist.csv')\n",
    "print(df.head())"
   ]
  },
  {
   "cell_type": "code",
   "execution_count": 10,
   "metadata": {},
   "outputs": [
    {
     "data": {
      "text/plain": [
       "'{\"name\": \"utsav\", \"data\": [], \"valis\": true}'"
      ]
     },
     "execution_count": 10,
     "metadata": {},
     "output_type": "execute_result"
    }
   ],
   "source": [
    "import json\n",
    "data={'name':'utsav','data':[],'valis':True}\n",
    "json.dumps(data)"
   ]
  },
  {
   "cell_type": "code",
   "execution_count": 11,
   "metadata": {},
   "outputs": [
    {
     "name": "stdout",
     "output_type": "stream",
     "text": [
      "{'name': 'utsav', 'data': 'yata utsa', 'valis': True}\n"
     ]
    },
    {
     "data": {
      "text/plain": [
       "dict"
      ]
     },
     "execution_count": 11,
     "metadata": {},
     "output_type": "execute_result"
    }
   ],
   "source": [
    "json_output='{\"name\": \"utsav\", \"data\": \"yata utsa\", \"valis\": true}'\n",
    "loaded_json=json.loads(json_output)\n",
    "print(loaded_json)\n",
    "type(loaded_json)"
   ]
  },
  {
   "cell_type": "code",
   "execution_count": 14,
   "metadata": {},
   "outputs": [
    {
     "name": "stdout",
     "output_type": "stream",
     "text": [
      "dict_keys(['name', 'description', 'license', 'homepage', 'support', 'authors', 'require', 'autoload', 'extra', 'suggest', 'config', 'minimum-stability'])\n"
     ]
    }
   ],
   "source": [
    "#load json file in python\n",
    "\n",
    "with open('composer.json') as f:\n",
    "    loaded_json=json.load(f)\n",
    "loaded_json\n",
    "\n",
    "print(loaded_json.keys())"
   ]
  },
  {
   "cell_type": "code",
   "execution_count": null,
   "metadata": {},
   "outputs": [],
   "source": []
  }
 ],
 "metadata": {
  "kernelspec": {
   "display_name": "Python 3",
   "language": "python",
   "name": "python3"
  },
  "language_info": {
   "codemirror_mode": {
    "name": "ipython",
    "version": 3
   },
   "file_extension": ".py",
   "mimetype": "text/x-python",
   "name": "python",
   "nbconvert_exporter": "python",
   "pygments_lexer": "ipython3",
   "version": "3.12.0"
  }
 },
 "nbformat": 4,
 "nbformat_minor": 2
}
